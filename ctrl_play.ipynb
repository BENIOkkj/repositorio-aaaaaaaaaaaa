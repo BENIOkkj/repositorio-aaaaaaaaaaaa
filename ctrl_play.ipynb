{
  "nbformat": 4,
  "nbformat_minor": 0,
  "metadata": {
    "colab": {
      "provenance": [],
      "authorship_tag": "ABX9TyOVyqulLb3QRhkPEqMkkNs+",
      "include_colab_link": true
    },
    "kernelspec": {
      "name": "python3",
      "display_name": "Python 3"
    },
    "language_info": {
      "name": "python"
    }
  },
  "cells": [
    {
      "cell_type": "markdown",
      "metadata": {
        "id": "view-in-github",
        "colab_type": "text"
      },
      "source": [
        "<a href=\"https://colab.research.google.com/github/BENIOkkj/repositorio-aaaaaaaaaaaa/blob/main/ctrl_play.ipynb\" target=\"_parent\"><img src=\"https://colab.research.google.com/assets/colab-badge.svg\" alt=\"Open In Colab\"/></a>"
      ]
    },
    {
      "cell_type": "code",
      "source": [
        "print(1)\n",
        "print('be')\n",
        "print(\"beniobm\")"
      ],
      "metadata": {
        "colab": {
          "base_uri": "https://localhost:8080/"
        },
        "id": "AF6aWCOdm0rV",
        "outputId": "c3c5d9fc-178c-47aa-a2ee-e5dc59bba72e"
      },
      "execution_count": null,
      "outputs": [
        {
          "output_type": "stream",
          "name": "stdout",
          "text": [
            "1\n",
            "be\n",
            "benio\n"
          ]
        }
      ]
    },
    {
      "cell_type": "markdown",
      "source": [
        "#variaveis"
      ],
      "metadata": {
        "id": "_xwhD_l4nw1f"
      }
    },
    {
      "cell_type": "code",
      "source": [
        "#como escrever variaveis\n",
        "#normal\n",
        "num = 10\n",
        "numdois = 20\n",
        "saldoBanCarioDeHoje = 1000\n",
        "#sankecase\n",
        "saldo_bancario_de_ontem = 10000\n",
        "\n",
        "#Variavel nunca pode comecar com numero\n",
        "#Uma variavel nunca pode ter espaco, use o underline\n",
        "#nao utileze estes simbolos /"
      ],
      "metadata": {
        "id": "8saF4QWqobh4"
      },
      "execution_count": null,
      "outputs": []
    },
    {
      "cell_type": "code",
      "source": [
        "print(saldo_bancario_de_ontem)\n",
        "print(\"Seu saldo bancario de ontem:\",saldo_bancario_de_ontem)"
      ],
      "metadata": {
        "colab": {
          "base_uri": "https://localhost:8080/"
        },
        "id": "8w6KWrR_po3o",
        "outputId": "b6d08f5e-2bc6-4562-d80f-b5bfba411bfb"
      },
      "execution_count": null,
      "outputs": [
        {
          "output_type": "stream",
          "name": "stdout",
          "text": [
            "10000\n",
            "Seu saldo bancario de ontem: 10000\n"
          ]
        }
      ]
    },
    {
      "cell_type": "markdown",
      "source": [
        "#tipo de numero"
      ],
      "metadata": {
        "id": "gkwkndxlqKtN"
      }
    },
    {
      "cell_type": "code",
      "source": [
        "inteiro = 10\n",
        "\n",
        "type(inteiro)"
      ],
      "metadata": {
        "colab": {
          "base_uri": "https://localhost:8080/"
        },
        "id": "akJ-fIYyqRxU",
        "outputId": "4631012a-223c-4802-d27b-1581286d4b6e"
      },
      "execution_count": null,
      "outputs": [
        {
          "output_type": "execute_result",
          "data": {
            "text/plain": [
              "int"
            ]
          },
          "metadata": {},
          "execution_count": 11
        }
      ]
    },
    {
      "cell_type": "code",
      "source": [
        "decimal = 10.5\n",
        "\n",
        "type(decimal)"
      ],
      "metadata": {
        "colab": {
          "base_uri": "https://localhost:8080/"
        },
        "id": "8s7UqMqBqoDG",
        "outputId": "7e0cfb46-22fc-4341-b9a2-f47b6ea2b8b4"
      },
      "execution_count": null,
      "outputs": [
        {
          "output_type": "execute_result",
          "data": {
            "text/plain": [
              "float"
            ]
          },
          "metadata": {},
          "execution_count": 10
        }
      ]
    },
    {
      "cell_type": "code",
      "source": [
        "#adicao\n",
        "1 + 1"
      ],
      "metadata": {
        "colab": {
          "base_uri": "https://localhost:8080/"
        },
        "id": "qOc2KlpvrGno",
        "outputId": "8bb86394-e3e7-408c-f3c6-a5dcc5ecc575"
      },
      "execution_count": null,
      "outputs": [
        {
          "output_type": "execute_result",
          "data": {
            "text/plain": [
              "2"
            ]
          },
          "metadata": {},
          "execution_count": 12
        }
      ]
    },
    {
      "cell_type": "code",
      "source": [
        "#subtracao\n",
        "1 - 1"
      ],
      "metadata": {
        "colab": {
          "base_uri": "https://localhost:8080/"
        },
        "id": "NgiderXfrOZ5",
        "outputId": "6cc93670-5183-4a1d-a574-903eca1cb22e"
      },
      "execution_count": null,
      "outputs": [
        {
          "output_type": "execute_result",
          "data": {
            "text/plain": [
              "0"
            ]
          },
          "metadata": {},
          "execution_count": 13
        }
      ]
    },
    {
      "cell_type": "code",
      "source": [
        "#divisao\n",
        "8/4"
      ],
      "metadata": {
        "colab": {
          "base_uri": "https://localhost:8080/"
        },
        "id": "Qi4WxGusrYY0",
        "outputId": "9a39cc02-30ed-4114-db77-61ff9eab0e89"
      },
      "execution_count": null,
      "outputs": [
        {
          "output_type": "execute_result",
          "data": {
            "text/plain": [
              "2.0"
            ]
          },
          "metadata": {},
          "execution_count": 14
        }
      ]
    },
    {
      "cell_type": "code",
      "source": [
        "#multiplicacao\n",
        "3*3"
      ],
      "metadata": {
        "colab": {
          "base_uri": "https://localhost:8080/"
        },
        "id": "nskh8nDzrjbi",
        "outputId": "874570f4-e297-4085-cb4a-5f7db9da474d"
      },
      "execution_count": null,
      "outputs": [
        {
          "output_type": "execute_result",
          "data": {
            "text/plain": [
              "9"
            ]
          },
          "metadata": {},
          "execution_count": 15
        }
      ]
    },
    {
      "cell_type": "code",
      "source": [
        "#exponencial\n",
        "10**2"
      ],
      "metadata": {
        "colab": {
          "base_uri": "https://localhost:8080/"
        },
        "id": "YdeQ41dMrsUy",
        "outputId": "3af951c7-e41c-4229-f590-ac68d07dfaec"
      },
      "execution_count": null,
      "outputs": [
        {
          "output_type": "execute_result",
          "data": {
            "text/plain": [
              "100"
            ]
          },
          "metadata": {},
          "execution_count": 16
        }
      ]
    },
    {
      "cell_type": "code",
      "source": [
        "#ordem das operacoes\n",
        "10 + 10 * 10"
      ],
      "metadata": {
        "colab": {
          "base_uri": "https://localhost:8080/"
        },
        "id": "htAQmHqUr1fq",
        "outputId": "66ac860a-8a80-4b65-b535-05c83677f53c"
      },
      "execution_count": null,
      "outputs": [
        {
          "output_type": "execute_result",
          "data": {
            "text/plain": [
              "110"
            ]
          },
          "metadata": {},
          "execution_count": 17
        }
      ]
    },
    {
      "cell_type": "code",
      "source": [
        "#como especificar a ordem das operacoes\n",
        "(2 + 10) * (10 - 5)"
      ],
      "metadata": {
        "colab": {
          "base_uri": "https://localhost:8080/"
        },
        "id": "aj5n2VvIsA4s",
        "outputId": "b8e847f5-401a-452c-ad3e-32c0e52445e4"
      },
      "execution_count": null,
      "outputs": [
        {
          "output_type": "execute_result",
          "data": {
            "text/plain": [
              "60"
            ]
          },
          "metadata": {},
          "execution_count": 18
        }
      ]
    },
    {
      "cell_type": "code",
      "source": [
        "numero = 10\n",
        "\n",
        "numero + numero\n",
        "\n",
        "numero = 30\n",
        "\n",
        "numero = numero + numero\n",
        "\n",
        "print(numero)"
      ],
      "metadata": {
        "colab": {
          "base_uri": "https://localhost:8080/"
        },
        "id": "vJ7Gi-Ulwvfw",
        "outputId": "7bef8741-c53f-4e9a-829f-17a07e9c7a80"
      },
      "execution_count": null,
      "outputs": [
        {
          "output_type": "stream",
          "name": "stdout",
          "text": [
            "60\n"
          ]
        }
      ]
    },
    {
      "cell_type": "code",
      "source": [
        "#escreva um programa que imprima(print) seu nome na tela.\n",
        "print(\"benicio\")\n",
        "\n"
      ],
      "metadata": {
        "colab": {
          "base_uri": "https://localhost:8080/"
        },
        "id": "qvFZbObIyjTd",
        "outputId": "f94d4fad-8063-42ad-f8eb-af156849d751"
      },
      "execution_count": null,
      "outputs": [
        {
          "output_type": "stream",
          "name": "stdout",
          "text": [
            "benicio\n"
          ]
        }
      ]
    },
    {
      "cell_type": "code",
      "source": [
        "#declare duas variaveis com numeros e imprima(print) a soma deles.\n",
        "num = 10\n",
        "numdois = 3\n",
        "print(num + numdois)\n",
        "\n",
        "num = 10\n",
        "numdois = 3\n",
        "soma = num + numdois\n",
        "print(\"o resultado da soma é:\",soma)"
      ],
      "metadata": {
        "colab": {
          "base_uri": "https://localhost:8080/"
        },
        "id": "a7Kmz1ZHyvTU",
        "outputId": "091824a7-5b48-491f-b05e-eee65060f9d0"
      },
      "execution_count": null,
      "outputs": [
        {
          "output_type": "stream",
          "name": "stdout",
          "text": [
            "13\n",
            "o resultado da soma é: 13\n"
          ]
        }
      ]
    },
    {
      "cell_type": "code",
      "source": [
        "#declare uma variavel com uma mesnsagem pessoal e imprima-a.\n",
        "mensagem = \"é\"\n",
        "print(mensagem)\n"
      ],
      "metadata": {
        "colab": {
          "base_uri": "https://localhost:8080/"
        },
        "id": "3KShwEocy8Se",
        "outputId": "64ad729d-7940-47ab-ea96-4b7c53e9273e"
      },
      "execution_count": null,
      "outputs": [
        {
          "output_type": "stream",
          "name": "stdout",
          "text": [
            "é\n"
          ]
        }
      ]
    },
    {
      "cell_type": "code",
      "source": [
        "#declare duas variaveis com valores numericos e imprima a soma, subtracao, multiplicacao e divisao delas.\n",
        "num1 = 2.5\n",
        "num2 = 2.5\n",
        "soma = num1 + num2\n",
        "print(soma)\n",
        "\n",
        "subtracao = num1 - num2\n",
        "print(subtracao)\n",
        "\n",
        "multiplicacao = num1 * num2\n",
        "print(multiplicacao)\n",
        "\n",
        "divisao = num1 / num2\n",
        "print(divisao)"
      ],
      "metadata": {
        "colab": {
          "base_uri": "https://localhost:8080/"
        },
        "id": "yiIAcjtc2J43",
        "outputId": "5bf7a721-fae3-4ce8-a652-2e377306c1bf"
      },
      "execution_count": null,
      "outputs": [
        {
          "output_type": "stream",
          "name": "stdout",
          "text": [
            "5.0\n",
            "0.0\n",
            "6.25\n",
            "1.0\n"
          ]
        }
      ]
    },
    {
      "cell_type": "markdown",
      "source": [
        "#STRING\n"
      ],
      "metadata": {
        "id": "s1t0bqPSlH5c"
      }
    },
    {
      "cell_type": "code",
      "source": [
        "#uma palavra\n",
        "string1 = \"Oi\"\n",
        "#uma frase\n",
        "string2 = \"oi, como vc esta?\"\n",
        "#uma frase com aspas simples\n",
        "string3 = 'eu sou o fodaum do brawl'"
      ],
      "metadata": {
        "id": "q5NXMUl0lMp7"
      },
      "execution_count": null,
      "outputs": []
    },
    {
      "cell_type": "code",
      "source": [
        "print(string1)\n",
        "print(string2)\n",
        "print(string3)"
      ],
      "metadata": {
        "colab": {
          "base_uri": "https://localhost:8080/"
        },
        "id": "5OgSVb1jmrQP",
        "outputId": "cd8a9a40-38a6-4691-d336-f7913e5cab12"
      },
      "execution_count": null,
      "outputs": [
        {
          "output_type": "stream",
          "name": "stdout",
          "text": [
            "Oi\n",
            "oi, como vc esta?\n",
            "eu sou o fodaum do brawl\n"
          ]
        }
      ]
    },
    {
      "cell_type": "code",
      "source": [
        "#como utilizar as \"\" numa string\n",
        "string4 = 'benicio é \"feio\"'\n",
        "print(string4)"
      ],
      "metadata": {
        "colab": {
          "base_uri": "https://localhost:8080/"
        },
        "id": "8wXPRqC-nl4I",
        "outputId": "581ebc6e-c79b-4ca4-8297-37a6e0d632c9"
      },
      "execution_count": null,
      "outputs": [
        {
          "output_type": "stream",
          "name": "stdout",
          "text": [
            "benicio é \"feio\"\n"
          ]
        }
      ]
    },
    {
      "cell_type": "code",
      "source": [
        "#tres formas de printar uma string\n",
        "string5 = \"teste\"\n",
        "print(string5)\n",
        "print(\"teste\")\n",
        "'teste'"
      ],
      "metadata": {
        "colab": {
          "base_uri": "https://localhost:8080/",
          "height": 70
        },
        "id": "0hHuoZl9oEWO",
        "outputId": "b167febd-1a4c-4c4d-eee5-847197ccc816"
      },
      "execution_count": null,
      "outputs": [
        {
          "output_type": "stream",
          "name": "stdout",
          "text": [
            "teste\n",
            "teste\n"
          ]
        },
        {
          "output_type": "execute_result",
          "data": {
            "text/plain": [
              "'teste'"
            ],
            "application/vnd.google.colaboratory.intrinsic+json": {
              "type": "string"
            }
          },
          "metadata": {},
          "execution_count": 15
        }
      ]
    },
    {
      "cell_type": "code",
      "source": [
        "#utilizar /n para saltar linhas\n",
        "print(\"saltando agora \\nsaltei \\n!\")"
      ],
      "metadata": {
        "colab": {
          "base_uri": "https://localhost:8080/"
        },
        "id": "8Hk1WvfJqG1J",
        "outputId": "f1853dc9-a22e-4669-ba6f-1ecbaaab9624"
      },
      "execution_count": null,
      "outputs": [
        {
          "output_type": "stream",
          "name": "stdout",
          "text": [
            "saltando agora \n",
            "saltei \n",
            "!\n"
          ]
        }
      ]
    },
    {
      "cell_type": "code",
      "source": [
        "#utilizar \\t para dar espaços maiores\n",
        "print(\"estou saltando \\tsaltando!\")"
      ],
      "metadata": {
        "colab": {
          "base_uri": "https://localhost:8080/"
        },
        "id": "Yy_F1GDPq5BR",
        "outputId": "cb7ab8a3-4373-49a6-a716-49c9d233144b"
      },
      "execution_count": null,
      "outputs": [
        {
          "output_type": "stream",
          "name": "stdout",
          "text": [
            "estou saltando \tsaltando!\n"
          ]
        }
      ]
    },
    {
      "cell_type": "code",
      "source": [
        "#veja quantos caracteres forma a frase\n",
        "frase = \"yo quiero tacobel!\"\n",
        "len(frase)"
      ],
      "metadata": {
        "colab": {
          "base_uri": "https://localhost:8080/"
        },
        "id": "_fYNvUucr5j3",
        "outputId": "4bc7e2db-4cc4-454a-a5a8-00a276889baf"
      },
      "execution_count": null,
      "outputs": [
        {
          "output_type": "execute_result",
          "data": {
            "text/plain": [
              "18"
            ]
          },
          "metadata": {},
          "execution_count": 20
        }
      ]
    },
    {
      "cell_type": "code",
      "source": [
        "#indenxaçao de string\n",
        "nome = \"chablau cabum\"\n",
        "#imprimindo a primeira letra do nome\n",
        "print(nome[10])"
      ],
      "metadata": {
        "colab": {
          "base_uri": "https://localhost:8080/"
        },
        "id": "RiUUFunnuctM",
        "outputId": "99cda795-a839-44e4-d1f2-9ea231732a88"
      },
      "execution_count": null,
      "outputs": [
        {
          "output_type": "stream",
          "name": "stdout",
          "text": [
            "b\n"
          ]
        }
      ]
    },
    {
      "cell_type": "code",
      "source": [
        "#imprimindo a partir de um caractere\n",
        "print(nome[0:])"
      ],
      "metadata": {
        "colab": {
          "base_uri": "https://localhost:8080/"
        },
        "id": "ATwSFo1dvmad",
        "outputId": "4c33900b-d59c-4be1-d272-d6f273ce2cc0"
      },
      "execution_count": null,
      "outputs": [
        {
          "output_type": "stream",
          "name": "stdout",
          "text": [
            "chablau cabum\n"
          ]
        }
      ]
    },
    {
      "cell_type": "code",
      "source": [
        "#imprimindo ate um caractere\n",
        "print(nome[:12])"
      ],
      "metadata": {
        "colab": {
          "base_uri": "https://localhost:8080/"
        },
        "id": "_yRQT8EzwE7E",
        "outputId": "5e287ad7-203d-439a-be0c-04eeeedc4735"
      },
      "execution_count": null,
      "outputs": [
        {
          "output_type": "stream",
          "name": "stdout",
          "text": [
            "chablau cabu\n"
          ]
        }
      ]
    },
    {
      "cell_type": "code",
      "source": [
        "#imprimir alguma parte expecifica\n",
        "print(nome[7:13])"
      ],
      "metadata": {
        "colab": {
          "base_uri": "https://localhost:8080/"
        },
        "id": "N3TZlCxN0JpI",
        "outputId": "de239521-e197-4a3b-a890-ce8ebaaa8ede"
      },
      "execution_count": null,
      "outputs": [
        {
          "output_type": "stream",
          "name": "stdout",
          "text": [
            " cabum\n"
          ]
        }
      ]
    },
    {
      "cell_type": "code",
      "source": [
        "#imprimir retrocedendo\n",
        "print(nome[-7])"
      ],
      "metadata": {
        "colab": {
          "base_uri": "https://localhost:8080/"
        },
        "id": "crME8UYG0kiY",
        "outputId": "72989174-309e-4b4b-f5d6-03546a68e4d5"
      },
      "execution_count": null,
      "outputs": [
        {
          "output_type": "stream",
          "name": "stdout",
          "text": [
            "u\n"
          ]
        }
      ]
    },
    {
      "cell_type": "code",
      "source": [
        "#tudo mesnos a ultima letra\n",
        "print(nome[:-10])"
      ],
      "metadata": {
        "colab": {
          "base_uri": "https://localhost:8080/"
        },
        "id": "1byRn4NM00n_",
        "outputId": "3428fbfc-e150-48c8-be07-a4a1d20b9383"
      },
      "execution_count": null,
      "outputs": [
        {
          "output_type": "stream",
          "name": "stdout",
          "text": [
            "cha\n"
          ]
        }
      ]
    },
    {
      "cell_type": "code",
      "source": [
        "#imprimir uma frase saltando letras de 2 em 2\n",
        "frase = \"laby do laby do birulaby laby\"\n",
        "print(frase[::2])"
      ],
      "metadata": {
        "colab": {
          "base_uri": "https://localhost:8080/"
        },
        "id": "fRRULRSx1fox",
        "outputId": "30dbfe17-33e7-4740-96ad-e54eb636ec88"
      },
      "execution_count": null,
      "outputs": [
        {
          "output_type": "stream",
          "name": "stdout",
          "text": [
            "lb olb obrlb ay\n"
          ]
        }
      ]
    },
    {
      "cell_type": "code",
      "source": [
        "#encontrar caracteres dentro de uma de uma string use o find()\n",
        "email = \"shalalalalaashalala@ataque.bra.si\"\n",
        "print(email.find(\"@\"))"
      ],
      "metadata": {
        "colab": {
          "base_uri": "https://localhost:8080/"
        },
        "id": "T9W4RtyM32cr",
        "outputId": "a253e000-fefe-4f9c-fda2-a31bf368ab04"
      },
      "execution_count": null,
      "outputs": [
        {
          "output_type": "stream",
          "name": "stdout",
          "text": [
            "19\n"
          ]
        }
      ]
    },
    {
      "cell_type": "code",
      "source": [
        "#utilize a funçao count para contar caracteres dentro de uma string\n",
        "email = \"shalalalalaashalala@ataque.bra.si\"\n",
        "print(email.count(\".\"))"
      ],
      "metadata": {
        "colab": {
          "base_uri": "https://localhost:8080/"
        },
        "id": "W0np9kXT6BeH",
        "outputId": "8afb8341-0fa6-4c36-d0f7-b2962c17d66b"
      },
      "execution_count": null,
      "outputs": [
        {
          "output_type": "stream",
          "name": "stdout",
          "text": [
            "2\n"
          ]
        }
      ]
    },
    {
      "cell_type": "code",
      "source": [
        "#operadores em string\n",
        "\n",
        "\n",
        "#concatenaçao\n",
        "nome = \"maluco\"\n",
        "sobrenome = \" adoidado\"\n",
        "print(nome+sobrenome)\n",
        "\n",
        "#repetçao\n",
        "print(nome *10)"
      ],
      "metadata": {
        "colab": {
          "base_uri": "https://localhost:8080/"
        },
        "id": "aFQ4A03I6jEx",
        "outputId": "b3427a37-b65a-4158-8863-b1ab81749de1"
      },
      "execution_count": null,
      "outputs": [
        {
          "output_type": "stream",
          "name": "stdout",
          "text": [
            "maluco adoidado\n",
            "malucomalucomalucomalucomalucomalucomalucomalucomalucomaluco\n"
          ]
        }
      ]
    },
    {
      "cell_type": "code",
      "source": [
        "#numero nao podem ser conctenados com strings\n",
        "numero_de_irmaos = 2\n",
        "\n",
        "#use a funçao str() pois ela trasforma numeros em strings\n",
        "print(\"voce tem \" + str(numero_de_irmaos) + \" irmaos\")"
      ],
      "metadata": {
        "colab": {
          "base_uri": "https://localhost:8080/"
        },
        "id": "Vi2nuidG7Vor",
        "outputId": "8b79793c-0d26-4b23-e592-a499cec6d823"
      },
      "execution_count": null,
      "outputs": [
        {
          "output_type": "stream",
          "name": "stdout",
          "text": [
            "voce tem 2 irmaos\n"
          ]
        }
      ]
    },
    {
      "cell_type": "markdown",
      "source": [
        "#listas e matrizes\n"
      ],
      "metadata": {
        "id": "mAkQOJAj8eAl"
      }
    },
    {
      "cell_type": "code",
      "source": [
        "#como criar uma lista\n",
        "\n",
        "convidados = [\"th\", \"rz\", \"vitin\", \"soshi\"]\n",
        "print(convidados)"
      ],
      "metadata": {
        "colab": {
          "base_uri": "https://localhost:8080/"
        },
        "id": "wBfnq5po8ix3",
        "outputId": "973e01c6-b2ce-44b0-9798-4f05af16d94a"
      },
      "execution_count": null,
      "outputs": [
        {
          "output_type": "stream",
          "name": "stdout",
          "text": [
            "['th', 'rz', 'vitin', 'soshi']\n"
          ]
        }
      ]
    },
    {
      "cell_type": "code",
      "source": [
        "#como exibir algo expecifico\n",
        "print(\"primeiro convidado da festa é: \"+ convidados[0])"
      ],
      "metadata": {
        "colab": {
          "base_uri": "https://localhost:8080/"
        },
        "id": "ZPwUSqMK9rAv",
        "outputId": "8849fed7-6f27-41ce-ebb3-bcc172272c5b"
      },
      "execution_count": null,
      "outputs": [
        {
          "output_type": "stream",
          "name": "stdout",
          "text": [
            "primeiro convidado da festa é: Th\n"
          ]
        }
      ]
    },
    {
      "cell_type": "code",
      "source": [
        "print(\"ultimo convidado chmado: \" + convidados[-2])"
      ],
      "metadata": {
        "colab": {
          "base_uri": "https://localhost:8080/"
        },
        "id": "OvwnzNEjvRud",
        "outputId": "25835f0d-9ae4-440f-98b4-455cff70b959"
      },
      "execution_count": null,
      "outputs": [
        {
          "output_type": "stream",
          "name": "stdout",
          "text": [
            "ultimo convidado chmado: vitin\n"
          ]
        }
      ]
    },
    {
      "cell_type": "code",
      "source": [
        "#substituindo um convidado\n",
        "\n",
        "convidados[3] = \"yore\"\n",
        "print(convidados)"
      ],
      "metadata": {
        "colab": {
          "base_uri": "https://localhost:8080/"
        },
        "id": "HZIdxfyf_rJH",
        "outputId": "47e6a561-350a-4643-8db9-d1afc2cda745"
      },
      "execution_count": null,
      "outputs": [
        {
          "output_type": "stream",
          "name": "stdout",
          "text": [
            "['th', 'rz', 'vitin', 'yore', 'soshi']\n"
          ]
        }
      ]
    },
    {
      "cell_type": "code",
      "source": [
        "#como acrescentar itens dentro da lista\n",
        "\n",
        "convidados = [\"th\", \"rz\", \"vitin\", \"soshi\"]\n",
        "convidados.append(\"yore\")\n",
        "print(convidados)"
      ],
      "metadata": {
        "colab": {
          "base_uri": "https://localhost:8080/"
        },
        "id": "y6_7RXERw8uW",
        "outputId": "065e1acc-86b7-4d44-a2d0-e0aaa6d8b41e"
      },
      "execution_count": null,
      "outputs": [
        {
          "output_type": "stream",
          "name": "stdout",
          "text": [
            "['th', 'rz', 'vitin', 'soshi', 'yore']\n"
          ]
        }
      ]
    },
    {
      "cell_type": "code",
      "source": [
        "#como inserir algo na lista em um lugar expecifico\n",
        "\n",
        "convidados = [\"th\", \"rz\", \"vitin\", \"soshi\"]\n",
        "convidados.insert(2, \"biguéti\")\n",
        "print(convidados)"
      ],
      "metadata": {
        "colab": {
          "base_uri": "https://localhost:8080/"
        },
        "id": "CTiiABghzBE0",
        "outputId": "535fac82-34d1-475c-c463-2dcea5d19776"
      },
      "execution_count": null,
      "outputs": [
        {
          "output_type": "stream",
          "name": "stdout",
          "text": [
            "['th', 'rz', 'biguéti', 'vitin', 'soshi']\n"
          ]
        }
      ]
    },
    {
      "cell_type": "code",
      "source": [
        "#como remover itens da lista\n",
        "\n",
        "convidados = [\"th\", \"rz\", \"vitin\", \"soshi\"]\n",
        "del convidados[2]\n",
        "print(convidados)"
      ],
      "metadata": {
        "colab": {
          "base_uri": "https://localhost:8080/"
        },
        "id": "yt_86Nu0zpX1",
        "outputId": "d8ed0da9-92c0-497c-ed0a-4d5375fc7d55"
      },
      "execution_count": null,
      "outputs": [
        {
          "output_type": "stream",
          "name": "stdout",
          "text": [
            "['th', 'rz', 'soshi']\n"
          ]
        }
      ]
    },
    {
      "cell_type": "code",
      "source": [
        "#como remover um por um na lista\n",
        "\n",
        "convidados = [\"th\", \"rz\", \"vitin\", \"soshi\"]\n",
        "convidados.pop()\n",
        "print(convidados )"
      ],
      "metadata": {
        "colab": {
          "base_uri": "https://localhost:8080/"
        },
        "id": "j2Kk3ThW0XGk",
        "outputId": "4bd8cb9e-580d-4674-9285-4421f999937e"
      },
      "execution_count": null,
      "outputs": [
        {
          "output_type": "stream",
          "name": "stdout",
          "text": [
            "['th', 'rz', 'vitin']\n"
          ]
        }
      ]
    },
    {
      "cell_type": "code",
      "source": [
        "#como remover da lista em especifico utilizando o metodo .pop\n",
        "\n",
        "convidados = [\"th\", \"rz\", \"vitin\", \"soshi\"]\n",
        "convidados.pop(3)\n",
        "print(convidados)"
      ],
      "metadata": {
        "colab": {
          "base_uri": "https://localhost:8080/"
        },
        "id": "U0wdSPfl1X_C",
        "outputId": "58a0e439-ac69-4626-c31f-7ddb0bd7fbe9"
      },
      "execution_count": null,
      "outputs": [
        {
          "output_type": "stream",
          "name": "stdout",
          "text": [
            "['th', 'rz', 'vitin']\n"
          ]
        }
      ]
    },
    {
      "cell_type": "code",
      "source": [
        "#como remover um item sem dizer a sua posiçao\n",
        "\n",
        "convidados = [\"th\", \"rz\", \"vitin\", \"soshi\"]\n",
        "convidados.remove(\"vitin\")\n",
        "print(convidados)"
      ],
      "metadata": {
        "colab": {
          "base_uri": "https://localhost:8080/"
        },
        "id": "BCjBU_13671W",
        "outputId": "07f747b1-4c7c-4613-8b3e-beaff0860102"
      },
      "execution_count": null,
      "outputs": [
        {
          "output_type": "stream",
          "name": "stdout",
          "text": [
            "['th', 'rz', 'soshi']\n"
          ]
        }
      ]
    },
    {
      "cell_type": "code",
      "source": [
        "#como remover um item sem dizer sua posiçao\n",
        "\n",
        "convidados = [\"th\", \"rz\", \"vitin\", \"soshi\"]\n",
        "sem_carona = \"vitin\"\n",
        "convidados.remove(sem_carona)\n",
        "print(convidados)"
      ],
      "metadata": {
        "colab": {
          "base_uri": "https://localhost:8080/"
        },
        "id": "ulTsEkWQ7bLA",
        "outputId": "e4691594-dd1b-4b90-d14d-c6ea7d8be1e7"
      },
      "execution_count": null,
      "outputs": [
        {
          "output_type": "stream",
          "name": "stdout",
          "text": [
            "['th', 'rz', 'soshi']\n"
          ]
        }
      ]
    },
    {
      "cell_type": "code",
      "source": [
        "#como colocar uma lista em ordem alfabetica\n",
        "\n",
        "convidados = [\"th\", \"rz\", \"vitin\", \"soshi\"]\n",
        "convidados.sort()\n",
        "print(convidados)"
      ],
      "metadata": {
        "colab": {
          "base_uri": "https://localhost:8080/"
        },
        "id": "QBIm09JS9nB-",
        "outputId": "2d0111ee-dc45-46d6-e32f-a1cc715246c6"
      },
      "execution_count": null,
      "outputs": [
        {
          "output_type": "stream",
          "name": "stdout",
          "text": [
            "['rz', 'soshi', 'th', 'vitin']\n"
          ]
        }
      ]
    },
    {
      "cell_type": "code",
      "source": [
        "#como colocar em ordem inversa\n",
        "\n",
        "convidados = [\"th\", \"rz\", \"vitin\", \"soshi\"]\n",
        "convidados.sort(reverse=True)\n",
        "print(convidados)"
      ],
      "metadata": {
        "colab": {
          "base_uri": "https://localhost:8080/"
        },
        "id": "XOThXWOJ-AZ2",
        "outputId": "88b21757-1024-499e-e219-f3e6a8f5a5fe"
      },
      "execution_count": null,
      "outputs": [
        {
          "output_type": "stream",
          "name": "stdout",
          "text": [
            "['vitin', 'th', 'soshi', 'rz']\n"
          ]
        }
      ]
    },
    {
      "cell_type": "code",
      "source": [
        "#o metodo .sort()altera a lista original\n",
        "print(convidados)"
      ],
      "metadata": {
        "colab": {
          "base_uri": "https://localhost:8080/"
        },
        "id": "rgPZ8g3l-P_2",
        "outputId": "8c16a37c-6146-4f2f-c6c5-ffa6fcc9cfdd"
      },
      "execution_count": null,
      "outputs": [
        {
          "output_type": "stream",
          "name": "stdout",
          "text": [
            "['vitin', 'th', 'soshi', 'rz']\n"
          ]
        }
      ]
    },
    {
      "cell_type": "code",
      "source": [
        "#exercicios\n",
        "\n",
        "#1-crie uma lista vazia e em seguida adicione tres numeros nela, depois imprima(print) a lista\n",
        "\n",
        "lista = []\n",
        "lista.append(\"th\")\n",
        "lista.append(\"rz\")\n",
        "lista.append(\"soshi\")\n",
        "print(lista)"
      ],
      "metadata": {
        "colab": {
          "base_uri": "https://localhost:8080/"
        },
        "id": "RfhYRpEJ_jpq",
        "outputId": "8a5eb91c-cad0-449e-e9af-8a90f1520d66"
      },
      "execution_count": null,
      "outputs": [
        {
          "output_type": "stream",
          "name": "stdout",
          "text": [
            "['th', 'rz', 'soshi']\n"
          ]
        }
      ]
    },
    {
      "cell_type": "code",
      "source": [
        "#2-crie a lista que esta a baixo, depois imprima(print) o primeiro e o ultimo numero da lista\n",
        "lista = [10, 20, 30, 40, 50]\n",
        "print(lista[0])\n",
        "print(lista[-1])"
      ],
      "metadata": {
        "colab": {
          "base_uri": "https://localhost:8080/"
        },
        "id": "gvPKywOXAqne",
        "outputId": "a50e7810-623f-4ea3-9f50-2f5fbf8a5a4a"
      },
      "execution_count": null,
      "outputs": [
        {
          "output_type": "stream",
          "name": "stdout",
          "text": [
            "10\n",
            "50\n"
          ]
        }
      ]
    },
    {
      "cell_type": "code",
      "source": [
        "#3-crie a lista que esta a baixo e utualize qualquer nome desta lista para outro nome\n",
        "lista = [\"th\", \"rz\", \"soshi\"]\n",
        "lista[0] = \"oi\"\n",
        "print(lista)"
      ],
      "metadata": {
        "colab": {
          "base_uri": "https://localhost:8080/"
        },
        "id": "VCWX2OsmBCb2",
        "outputId": "491302d5-e470-405f-f6ad-fc12008d5ef1"
      },
      "execution_count": null,
      "outputs": [
        {
          "output_type": "stream",
          "name": "stdout",
          "text": [
            "['oi', 'rz', 'soshi']\n"
          ]
        }
      ]
    },
    {
      "cell_type": "markdown",
      "source": [
        "#Estruturas de repetição"
      ],
      "metadata": {
        "id": "rEGWeNWi6AxF"
      }
    },
    {
      "cell_type": "code",
      "source": [
        "#FOR\n",
        "\n",
        "numeros = [1, 2, 3, 4, 5, 6, 7, 8, 9, 10]\n",
        "\n",
        "for i in numeros :\n",
        "   print(i)"
      ],
      "metadata": {
        "colab": {
          "base_uri": "https://localhost:8080/"
        },
        "id": "nhQ84MY66ICu",
        "outputId": "987a1309-ebb2-46b4-ab15-f84fb28dac49"
      },
      "execution_count": null,
      "outputs": [
        {
          "output_type": "stream",
          "name": "stdout",
          "text": [
            "1\n",
            "2\n",
            "3\n",
            "4\n",
            "5\n",
            "6\n",
            "7\n",
            "8\n",
            "9\n",
            "10\n"
          ]
        }
      ]
    },
    {
      "cell_type": "code",
      "source": [
        "#para descobrir os numeros pares/impares\n",
        "for num in range(1, 11):\n",
        "   if num %2 == 0: #para descobrir os impares coloque 1 no lugar do 0\n",
        "     print(num)"
      ],
      "metadata": {
        "colab": {
          "base_uri": "https://localhost:8080/"
        },
        "id": "Wwi-eEN1BXoB",
        "outputId": "69b89bd6-4bfb-4495-9bad-6045014d2b18"
      },
      "execution_count": null,
      "outputs": [
        {
          "output_type": "stream",
          "name": "stdout",
          "text": [
            "2\n",
            "4\n",
            "6\n",
            "8\n",
            "10\n"
          ]
        }
      ]
    },
    {
      "cell_type": "code",
      "source": [
        "for letra in \"benicio\":\n",
        "   print(letra)"
      ],
      "metadata": {
        "colab": {
          "base_uri": "https://localhost:8080/"
        },
        "id": "_t0GA7eaEASQ",
        "outputId": "fc2b6b9f-ff33-4cea-811e-4301a2c1c302"
      },
      "execution_count": null,
      "outputs": [
        {
          "output_type": "stream",
          "name": "stdout",
          "text": [
            "b\n",
            "e\n",
            "n\n",
            "i\n",
            "c\n",
            "i\n",
            "o\n"
          ]
        }
      ]
    },
    {
      "cell_type": "code",
      "source": [
        "#ppara descobrir os numeros primos\n",
        "for num in range(2, 21):\n",
        "  e_primo = True\n",
        "\n",
        "  for num_teste in range(2, num):\n",
        "    if num % num_teste == 0:\n",
        "      e_primo = False\n",
        "      break\n",
        "\n",
        "  if(e_primo):\n",
        "      print(\"é primo: \", num)\n",
        "else:\n",
        "   print(\"não é primo: \", num)\n"
      ],
      "metadata": {
        "colab": {
          "base_uri": "https://localhost:8080/"
        },
        "id": "QzXMn3UxEiUx",
        "outputId": "d53abb25-26b4-44d6-e615-a945298a5573"
      },
      "execution_count": null,
      "outputs": [
        {
          "output_type": "stream",
          "name": "stdout",
          "text": [
            "é primo:  2\n",
            "é primo:  3\n",
            "é primo:  5\n",
            "é primo:  7\n",
            "é primo:  11\n",
            "é primo:  13\n",
            "é primo:  17\n",
            "é primo:  19\n",
            "não é primo:  20\n"
          ]
        }
      ]
    },
    {
      "cell_type": "code",
      "source": [
        "#While\n",
        "\n",
        "n = 10\n",
        "\n",
        "while(n > 0):\n",
        "  print(n)\n",
        "  n = n - 1"
      ],
      "metadata": {
        "colab": {
          "base_uri": "https://localhost:8080/"
        },
        "id": "zjmXJAnKIXo8",
        "outputId": "2cd28b24-c69f-4c10-ab1b-dcb46b33815d"
      },
      "execution_count": null,
      "outputs": [
        {
          "output_type": "stream",
          "name": "stdout",
          "text": [
            "10\n",
            "9\n",
            "8\n",
            "7\n",
            "6\n",
            "5\n",
            "4\n",
            "3\n",
            "2\n",
            "1\n"
          ]
        }
      ]
    },
    {
      "cell_type": "markdown",
      "source": [
        "#OUTROS TIPOS DE LISTAS\n"
      ],
      "metadata": {
        "id": "pjUMKXjuzov3"
      }
    },
    {
      "cell_type": "code",
      "source": [
        "#listas\n",
        "#saoordenados\n",
        "#pode ter qualquer tipo de dado\n",
        "#acessada por indices a partir de 0\n",
        "#sao muitaveis, ou seja, podem ser modificadas depois de criadas\n",
        "#sao definidos por []\n",
        "\n",
        "meu_list = [1,2,3,4,5]\n",
        "\n",
        "#SETS\n",
        "#nao sao ordenadas\n",
        "#nao temos valores duplicados\n",
        "#a lista nao possui indice\n",
        "#sao mutaveis, podemos adicionar e remover itens\n",
        "#sao definidos utilizando {}\n",
        "\n",
        "meus_sets = {1,12,3,4,5}\n",
        "\n",
        "#tuplas\n",
        "\n",
        "#sao ordenadas e imutaveis(nao pode alterar nada depois de ser criada)\n",
        "#aceita qualquer tipo de dado\n",
        "#possui indice\n",
        "#sao definidas por ()\n",
        "\n",
        "meu_tuple = (1,2,3,4,5)\n",
        "\n",
        "#dictionaries\n",
        "#sao pares chav-valor\n",
        "#os lementos sao acessados por chaves, nao por indices\n",
        "#as chaves devem ter um valor unico, porem o valor pode se repetir\n",
        "\n",
        "meu_dicioonario = {\"senha\": 123, \"senha2\":321}\n"
      ],
      "metadata": {
        "id": "N5czmTfs0Dcj"
      },
      "execution_count": null,
      "outputs": []
    },
    {
      "cell_type": "code",
      "source": [
        "#sets\n",
        "#sao mutaveis e podemos utilizar metodos\n",
        "\n",
        "sets = set()\n",
        "\n",
        "sets.add(1)\n",
        "sets.add(2)\n",
        "sets.add(3)\n",
        "sets.add(4)\n",
        "sets.add(5)\n",
        "#listas do tipo sets nao é possivel repetir valores/dados\n",
        "print(sets)"
      ],
      "metadata": {
        "colab": {
          "base_uri": "https://localhost:8080/"
        },
        "id": "WiU9KmNE7HuJ",
        "outputId": "241fa79d-78a4-4fdb-fb6b-a4fae40797dc"
      },
      "execution_count": null,
      "outputs": [
        {
          "output_type": "stream",
          "name": "stdout",
          "text": [
            "{1, 2, 3, 4, 5}\n"
          ]
        }
      ]
    },
    {
      "cell_type": "code",
      "source": [
        "a = True\n",
        "b = False\n",
        "\n",
        "#eu posso (se quiser sim) aplicar valores booleanos a partir de expressoes\n",
        "\n",
        "c = 1 < 2\n",
        "d = 7 > 10\n",
        "\n",
        "print(a,b,c,d)\n"
      ],
      "metadata": {
        "colab": {
          "base_uri": "https://localhost:8080/"
        },
        "id": "3FLLAbA087Ky",
        "outputId": "e5789ff2-50e9-4fe4-d457-f68ce191972b"
      },
      "execution_count": null,
      "outputs": [
        {
          "output_type": "stream",
          "name": "stdout",
          "text": [
            "True False True False\n"
          ]
        }
      ]
    },
    {
      "cell_type": "code",
      "source": [
        "#tuplas\n",
        "#varios tipos de dados\n",
        "tupla = ('um', 2, 'tres', True, 4.5, 'cinco ponto seis', False)\n",
        "\n",
        "print(tupla[2])\n",
        "print(tupla[2:5])\n",
        "print(\"----------------------------------------------------\")\n",
        "\n",
        "tupla2 = (1,2,2,3,3,3,4,4,4,4)\n",
        "\n",
        "#metodo que conseguimos utilizar\n",
        "print(len(tupla2))\n",
        "print(tupla2.count(3))\n",
        "\n",
        "#nao conseguimos utilizar pois uma tupla é imutavel\n",
        "#append\n",
        "#pop\n",
        "#remove\n",
        "#index"
      ],
      "metadata": {
        "colab": {
          "base_uri": "https://localhost:8080/"
        },
        "id": "vAOqCcbK9208",
        "outputId": "21f4fd9b-55ff-406f-8501-4fa0ca31ca21"
      },
      "execution_count": null,
      "outputs": [
        {
          "output_type": "stream",
          "name": "stdout",
          "text": [
            "tres\n",
            "('tres', True, 4.5)\n",
            "----------------------------------------------------\n",
            "10\n",
            "3\n"
          ]
        }
      ]
    },
    {
      "cell_type": "code",
      "source": [
        "#dictionaries\n",
        "#sao pares chav-valor\n",
        "#os lementos sao acessados por chaves, nao por indices\n",
        "#as chaves devem ter um valor unico, porem o valor pode se repetir\n",
        "\n",
        "dicionario = {'defenestrar': 'tacar alguma algo ou alguem pela janela', 'ps5':'R$3500', 'chave1':3}\n",
        "\n",
        "print(dicionario['defenestrar'])\n"
      ],
      "metadata": {
        "colab": {
          "base_uri": "https://localhost:8080/"
        },
        "id": "5k2yUyf1D-lu",
        "outputId": "d970fcc5-79c5-4d74-d559-f3db173020a0"
      },
      "execution_count": null,
      "outputs": [
        {
          "output_type": "stream",
          "name": "stdout",
          "text": [
            "tacar alguma algo ou alguem pela janela\n"
          ]
        }
      ]
    },
    {
      "cell_type": "code",
      "source": [
        "# {'chave':[valor1, valor2]}\n",
        "\n",
        "estatiticas = {'cr7':[1000,300], 'neyma':[20,2], 'abner':[100,403]}\n",
        "\n",
        "print(estatiticas['abner'][0])"
      ],
      "metadata": {
        "colab": {
          "base_uri": "https://localhost:8080/"
        },
        "id": "uYyBDOtKGWGa",
        "outputId": "ed2c0c87-6ea6-4bd9-87af-11e8485d2955"
      },
      "execution_count": null,
      "outputs": [
        {
          "output_type": "stream",
          "name": "stdout",
          "text": [
            "100\n"
          ]
        }
      ]
    },
    {
      "cell_type": "markdown",
      "source": [
        "#FUNÇÕES"
      ],
      "metadata": {
        "id": "G1XigxqGIUfW"
      }
    },
    {
      "cell_type": "code",
      "source": [
        "def ola_bom_dia():\n",
        "  print(\"ola, bom dia\")\n",
        "\n",
        "ola_bom_dia()"
      ],
      "metadata": {
        "id": "DvFms0DvIZsM",
        "colab": {
          "base_uri": "https://localhost:8080/"
        },
        "outputId": "c17313e6-b20e-4666-b432-037374b6ce8b"
      },
      "execution_count": null,
      "outputs": [
        {
          "output_type": "stream",
          "name": "stdout",
          "text": [
            "ola, bom dia\n"
          ]
        }
      ]
    },
    {
      "cell_type": "code",
      "source": [
        "def bom_dia(nomeDeUsuario):\n",
        " print(\"ola, bom dia\", nomeDeUsuario)\n",
        "bom_dia(\"th resenha\")\n",
        "\n",
        "#mais de um\n",
        "def bom_dia(nomeDeUsuario):\n",
        "  print(\"ola, bom dia %s\" % (nomeDeUsuario))\n",
        "bom_dia(\"vidoka vida loka\")"
      ],
      "metadata": {
        "colab": {
          "base_uri": "https://localhost:8080/"
        },
        "id": "ZoCVDgLf7MJR",
        "outputId": "b40ac10e-e3d4-4fb0-ba57-9de664e656c0"
      },
      "execution_count": null,
      "outputs": [
        {
          "output_type": "stream",
          "name": "stdout",
          "text": [
            "ola, bom dia th resenha\n",
            "ola, bom dia vidoka vida loka\n"
          ]
        }
      ]
    },
    {
      "cell_type": "code",
      "source": [
        "#crei uma funçao chamada filme_favorito() uqe aceite um parametro chamado \"titulo\"\n",
        "#e a funçao deve exibir a mensagem \"Um dos meus filmes favoritos é ...\""
      ],
      "metadata": {
        "id": "WQBuA34e-4iC"
      },
      "execution_count": null,
      "outputs": []
    },
    {
      "cell_type": "code",
      "source": [
        "def filme_favorito(titulo):\n",
        "  print(\"Um dos meus filmes favoritos é\", titulo)\n",
        "filme_favorito(\"carros 2\")\n",
        "\n",
        "def filmes_favoritos(titulo, titulo2):\n",
        "  print(\"Meus filmes favoritos são %s e %s\" % (titulo, titulo2))\n",
        "filmes_favoritos(\"carros 2\", \"carros\")\n"
      ],
      "metadata": {
        "colab": {
          "base_uri": "https://localhost:8080/"
        },
        "id": "2oooIow__Vpi",
        "outputId": "714dc416-dd2b-4b0f-f5a4-35a027dbbeca"
      },
      "execution_count": null,
      "outputs": [
        {
          "output_type": "stream",
          "name": "stdout",
          "text": [
            "Um dos meus filmes favoritos é carros 2\n",
            "Meus filmes favoritos são carros 2 e corros\n"
          ]
        }
      ]
    },
    {
      "cell_type": "code",
      "source": [
        "#a formua da velocidade é V = D/T\n",
        "\n",
        "def velocidade(distancia, tempo):\n",
        "  velocidade = distancia // tempo\n",
        "  print(\"A sua velocidade é de: %d\" % (velocidade))\n",
        "\n",
        "velocidade(374, 14)\n",
        "\n",
        "def velocidade(tempo, distancia = 374):\n",
        "  velocidade = distancia // tempo\n",
        "  print(\"A sua velocidade é de: %d\" % (velocidade))\n",
        "\n",
        "velocidade(14)"
      ],
      "metadata": {
        "colab": {
          "base_uri": "https://localhost:8080/"
        },
        "id": "wZrYgFPNCGri",
        "outputId": "2c674119-adf1-4f00-f0b3-f8e449c605f0"
      },
      "execution_count": null,
      "outputs": [
        {
          "output_type": "stream",
          "name": "stdout",
          "text": [
            "A sua velocidade é de: 26\n",
            "A sua velocidade é de: 26\n"
          ]
        }
      ]
    },
    {
      "cell_type": "code",
      "source": [
        "def menor(a, b):\n",
        " if a<=b:\n",
        "  return a\n",
        " else:\n",
        "    return b"
      ],
      "metadata": {
        "id": "ZKiyK6Q_EyGh"
      },
      "execution_count": null,
      "outputs": []
    },
    {
      "cell_type": "code",
      "source": [
        "a = int(input(\"Digite o primeiro numero: \"))\n",
        "b = int(input(\"Digite o segundo numero: \"))\n",
        "\n",
        "print(\"O menor valor entre %d e %d é %d\" % (a, b, menor(a, b)))\n",
        "\n"
      ],
      "metadata": {
        "colab": {
          "base_uri": "https://localhost:8080/"
        },
        "id": "gKLW90qvFeAp",
        "outputId": "1d6f4f08-c652-49e5-8559-6e65e9312f06"
      },
      "execution_count": null,
      "outputs": [
        {
          "output_type": "stream",
          "name": "stdout",
          "text": [
            "Digite o primeiro numero: 4\n",
            "Digite o segundo numero: 5\n",
            "O menor valor entre 4 e 5 é 4\n"
          ]
        }
      ]
    },
    {
      "cell_type": "markdown",
      "source": [
        "#EXERCICIOS\n"
      ],
      "metadata": {
        "id": "BrRyFVGOIzy_"
      }
    },
    {
      "cell_type": "code",
      "source": [
        "\n",
        "#O que é uma variável em Python?\n",
        "é uma forma de armazenamento de dados\n",
        "#Qual é a diferença entre uma variável e uma constante?\n",
        "a variavel pode ser alterada durante a execuçcao do codigo enquanto a constante nao\n",
        "#Explique o que são funções em Python.\n",
        "uma funçao é um agrupamento de codigos que podem ser chamados quando forem necessesarios\n",
        "#Como você declara uma função em Python?\n",
        "uma funçao é declarada quando tem def ():\n",
        "#O que é uma lista em Python?\n",
        "listas sao ordenaadas com qualquer tipo de dado podem sao mutaveis e sao definidas por []\n",
        "#Como você acessa um elemento específico em uma lista?\n",
        "utilizando + nome da lista [posiçao do uqe procura na lista] (essa posiçao sempre comça em 0)\n",
        "#Explique o que são condicionais em Python.\n",
        "if e else. if =  verificar uma condição e executar um bloco de código se essa condição for verdadeira\n",
        "else =  usado em conjunto com o “if” e permite executar um bloco de código alternativo caso a condição do “if” seja falsa\n",
        "#Quais são os operadores de comparação em Python?\n",
        " < , > , ⇐ , >= , == , !=\n",
        "#O que é um loop de repetição? Cite dois tipos de loops em Python.\n",
        "for = while\n",
        "#Como você solicita entrada de dados do usuário em Python?\n",
        "input\n",
        "\n",
        "\n",
        "\n",
        "#Escreva um programa que solicita ao usuário seu nome e o saúda.\n",
        "def bom_dia(nomeDeUsuario):\n",
        " print(\"ola, bom dia\", nomeDeUsuario)\n",
        "bom_dia(\"alguem ai\")\n",
        "#Crie uma função que recebe dois números como entrada e retorna a soma deles.\n",
        "\n",
        "#Escreva um programa que verifica se um número é par ou ímpar e imprime uma mensagem correspondente.\n",
        "\n",
        "#Crie uma lista com os nomes de três amigos. Imprima cada nome separadamente.\n",
        "\n",
        "#Escreva um programa que calcula a média de três números digitados pelo usuário.\n",
        "\n",
        "#Crie uma função que recebe uma lista como entrada e retorna o maior número presente nessa lista.\n",
        "\n",
        "#Escreva um programa que solicita ao usuário um número e verifica se ele é positivo, negativo ou zero.\n",
        "\n",
        "#Crie uma lista com os números de 1 a 10 e imprima apenas os números pares.\n",
        "\n",
        "#Escreva um programa que solicita ao usuário um número e verifica se ele é divisível por 3.\n",
        "\n",
        "#Crie uma função que recebe uma lista de números e retorna outra lista com os números elevados ao quadrado.\n"
      ],
      "metadata": {
        "id": "b1b9OmGw_VDh"
      },
      "execution_count": null,
      "outputs": []
    },
    {
      "cell_type": "code",
      "source": [
        "#1\n",
        "def bom_dia(nomeDeUsuario):\n",
        " print(\"ola, bom dia\", nomeDeUsuario)\n",
        "bom_dia(\"alguem ai\")"
      ],
      "metadata": {
        "colab": {
          "base_uri": "https://localhost:8080/"
        },
        "id": "dpIUlAh9PIhr",
        "outputId": "2c781a9e-e751-4452-b76a-d6d8dc5a3882"
      },
      "execution_count": null,
      "outputs": [
        {
          "output_type": "stream",
          "name": "stdout",
          "text": [
            "ola, bom dia alguem ai\n"
          ]
        }
      ]
    },
    {
      "cell_type": "code",
      "source": [
        "#2\n"
      ],
      "metadata": {
        "id": "9xpMOJ1CPOU5"
      },
      "execution_count": null,
      "outputs": []
    },
    {
      "cell_type": "markdown",
      "source": [
        "#MODULOS\n"
      ],
      "metadata": {
        "id": "rYJGyNKs_4Jn"
      }
    },
    {
      "cell_type": "code",
      "source": [
        "#importando um modulo\n",
        "import math"
      ],
      "metadata": {
        "id": "8R_eaqHW_7CP"
      },
      "execution_count": null,
      "outputs": []
    },
    {
      "cell_type": "code",
      "source": [
        "#2 elevado a 3\n",
        "print(math.pow(2,3))\n",
        "\n",
        "#arrendondando valores\n",
        "print(math.ceil(2.5))#arrendondar para cima\n",
        "print(math.trunc(2.5))#arredondar para baixo\n"
      ],
      "metadata": {
        "colab": {
          "base_uri": "https://localhost:8080/"
        },
        "id": "F_uMD8BKBhNP",
        "outputId": "1793214e-4030-44ff-de96-45a60d531737"
      },
      "execution_count": null,
      "outputs": [
        {
          "output_type": "stream",
          "name": "stdout",
          "text": [
            "8.0\n",
            "3\n",
            "2\n"
          ]
        }
      ]
    },
    {
      "cell_type": "code",
      "source": [
        "#como ver todas funções de um modulo\n",
        "print(dir(math))"
      ],
      "metadata": {
        "colab": {
          "base_uri": "https://localhost:8080/"
        },
        "id": "D_QpljtvC8i5",
        "outputId": "c9310a35-105f-4a8b-ca41-31f8aedd70de"
      },
      "execution_count": null,
      "outputs": [
        {
          "output_type": "stream",
          "name": "stdout",
          "text": [
            "['__doc__', '__loader__', '__name__', '__package__', '__spec__', 'acos', 'acosh', 'asin', 'asinh', 'atan', 'atan2', 'atanh', 'ceil', 'comb', 'copysign', 'cos', 'cosh', 'degrees', 'dist', 'e', 'erf', 'erfc', 'exp', 'expm1', 'fabs', 'factorial', 'floor', 'fmod', 'frexp', 'fsum', 'gamma', 'gcd', 'hypot', 'inf', 'isclose', 'isfinite', 'isinf', 'isnan', 'isqrt', 'lcm', 'ldexp', 'lgamma', 'log', 'log10', 'log1p', 'log2', 'modf', 'nan', 'nextafter', 'perm', 'pi', 'pow', 'prod', 'radians', 'remainder', 'sin', 'sinh', 'sqrt', 'tan', 'tanh', 'tau', 'trunc', 'ulp']\n"
          ]
        }
      ]
    },
    {
      "cell_type": "code",
      "source": [
        "print(math.radians(20))"
      ],
      "metadata": {
        "colab": {
          "base_uri": "https://localhost:8080/"
        },
        "id": "6pL4hVSZDIqX",
        "outputId": "1926e181-3fd3-4eac-e916-5b67e1c0a67a"
      },
      "execution_count": null,
      "outputs": [
        {
          "output_type": "stream",
          "name": "stdout",
          "text": [
            "0.3490658503988659\n"
          ]
        }
      ]
    },
    {
      "cell_type": "code",
      "source": [
        "from google.colab import drive\n",
        "drive.mount('/content/gdrive')"
      ],
      "metadata": {
        "colab": {
          "base_uri": "https://localhost:8080/"
        },
        "id": "LhBscxwkEoMH",
        "outputId": "29c3c72a-65e9-47b1-b5fb-723a40850712"
      },
      "execution_count": null,
      "outputs": [
        {
          "output_type": "stream",
          "name": "stdout",
          "text": [
            "Mounted at /content/gdrive\n"
          ]
        }
      ]
    },
    {
      "cell_type": "code",
      "source": [
        "import sys\n",
        "\n",
        "sys.path.insert(0, '/content/gdrive/MyDrive/modulos')"
      ],
      "metadata": {
        "id": "C3MoE9l9K2Sc"
      },
      "execution_count": null,
      "outputs": []
    },
    {
      "cell_type": "code",
      "source": [
        "import calculadora"
      ],
      "metadata": {
        "id": "BPod0mrLNgby"
      },
      "execution_count": null,
      "outputs": []
    },
    {
      "cell_type": "code",
      "source": [
        "calculadora.mult(5,5)"
      ],
      "metadata": {
        "colab": {
          "base_uri": "https://localhost:8080/"
        },
        "id": "HSd8aZYGSRHa",
        "outputId": "0a63375e-bfb1-4a04-ebc7-93b6637497ad"
      },
      "execution_count": null,
      "outputs": [
        {
          "output_type": "execute_result",
          "data": {
            "text/plain": [
              "25"
            ]
          },
          "metadata": {},
          "execution_count": 28
        }
      ]
    },
    {
      "cell_type": "markdown",
      "source": [
        "#arquivos"
      ],
      "metadata": {
        "id": "6FNvkhvTSlgc"
      }
    },
    {
      "cell_type": "code",
      "source": [
        "%%writefile texto.txt\n",
        "\n",
        "aaaaaaaaaaaaaaaa\n",
        "bbbbbbbbbbbbbbbb\n",
        "cccccccccccccccc\n",
        "dddddddddddddddd"
      ],
      "metadata": {
        "colab": {
          "base_uri": "https://localhost:8080/"
        },
        "id": "mStnUMCzSo6w",
        "outputId": "f1ecfb72-3fa3-4648-b950-b5b2251b9870"
      },
      "execution_count": null,
      "outputs": [
        {
          "output_type": "stream",
          "name": "stdout",
          "text": [
            "Writing texto.txt\n"
          ]
        }
      ]
    },
    {
      "cell_type": "code",
      "source": [
        "#abre um arquivo txt ja existente\n",
        "\n",
        "arquivo = open('texto.txt')"
      ],
      "metadata": {
        "id": "k9Ln3dJ8TSRQ"
      },
      "execution_count": null,
      "outputs": []
    },
    {
      "cell_type": "code",
      "source": [
        "#le todo o arquivo\n",
        "arquivo.read()"
      ],
      "metadata": {
        "colab": {
          "base_uri": "https://localhost:8080/",
          "height": 35
        },
        "id": "UP1xOYU0ThaJ",
        "outputId": "3134297a-beb6-487e-ae97-7b1fd693d1ef"
      },
      "execution_count": null,
      "outputs": [
        {
          "output_type": "execute_result",
          "data": {
            "text/plain": [
              "'\\naaaaaaaaaaaaaaaa\\nbbbbbbbbbbbbbbbb\\ncccccccccccccccc\\ndddddddddddddddd\\n'"
            ],
            "application/vnd.google.colaboratory.intrinsic+json": {
              "type": "string"
            }
          },
          "metadata": {},
          "execution_count": 34
        }
      ]
    },
    {
      "cell_type": "code",
      "source": [
        "#le todo o arquivo novamente\n",
        "arquivo.read()"
      ],
      "metadata": {
        "colab": {
          "base_uri": "https://localhost:8080/",
          "height": 35
        },
        "id": "34SqhBNVUUKz",
        "outputId": "64f088f5-73ae-4f7d-9a4f-26c1f5f79640"
      },
      "execution_count": null,
      "outputs": [
        {
          "output_type": "execute_result",
          "data": {
            "text/plain": [
              "''"
            ],
            "application/vnd.google.colaboratory.intrinsic+json": {
              "type": "string"
            }
          },
          "metadata": {},
          "execution_count": 37
        }
      ]
    },
    {
      "cell_type": "code",
      "source": [
        "#procurando o inicio do arquivo\n",
        "arquivo.seek(0)\n",
        "#agora a gente le o arquivo do inicio\n",
        "arquivo.read()"
      ],
      "metadata": {
        "colab": {
          "base_uri": "https://localhost:8080/",
          "height": 35
        },
        "id": "oYLvLbljUpPR",
        "outputId": "d088dcbd-7ab4-4a8b-eeff-4a854e9394cf"
      },
      "execution_count": null,
      "outputs": [
        {
          "output_type": "execute_result",
          "data": {
            "text/plain": [
              "'\\naaaaaaaaaaaaaaaa\\nbbbbbbbbbbbbbbbb\\ncccccccccccccccc\\ndddddddddddddddd\\n'"
            ],
            "application/vnd.google.colaboratory.intrinsic+json": {
              "type": "string"
            }
          },
          "metadata": {},
          "execution_count": 38
        }
      ]
    },
    {
      "cell_type": "code",
      "source": [
        "%%writefile herois.txt\n",
        "miranha, morceguinho, totuguita,\n",
        " simon, picole"
      ],
      "metadata": {
        "colab": {
          "base_uri": "https://localhost:8080/"
        },
        "id": "9L4MrPJvVfcY",
        "outputId": "80a15776-ce1e-434b-9b50-2182a6bc33f3"
      },
      "execution_count": null,
      "outputs": [
        {
          "output_type": "stream",
          "name": "stdout",
          "text": [
            "Overwriting herois.txt\n"
          ]
        }
      ]
    },
    {
      "cell_type": "code",
      "source": [
        "arquivo = open('herois.txt')\n",
        "#lendo linha por linha\n",
        "print(arquivo.readline())\n",
        "#lendo segunca linha\n",
        "print(arquivo.readline())"
      ],
      "metadata": {
        "colab": {
          "base_uri": "https://localhost:8080/"
        },
        "id": "BBwbNwUBV7eQ",
        "outputId": "0f160439-6f7e-483e-d3f3-b46bd56fba02"
      },
      "execution_count": null,
      "outputs": [
        {
          "output_type": "stream",
          "name": "stdout",
          "text": [
            "miranha, morceguinho, totuguita,\n",
            "\n",
            " simon, picole\n",
            "\n"
          ]
        }
      ]
    },
    {
      "cell_type": "code",
      "source": [
        "#lendo o arquivo inteiro com for\n",
        "\n",
        "arquivo = open('herois.txt', 'r')\n",
        "\n",
        "for x in arquivo:\n",
        "  print(x)"
      ],
      "metadata": {
        "colab": {
          "base_uri": "https://localhost:8080/"
        },
        "id": "Ch-XGjoeW_Wy",
        "outputId": "c0078396-2a83-4081-beff-552f1c12b3c7"
      },
      "execution_count": null,
      "outputs": [
        {
          "output_type": "stream",
          "name": "stdout",
          "text": [
            "miranha, morceguinho, totuguita,\n",
            "\n",
            " simon, picole\n",
            "\n"
          ]
        }
      ]
    },
    {
      "cell_type": "code",
      "source": [
        "#adiciona um segundo argumento a funcao, w, para escrita\n",
        "arquivo = open('herois.txt', 'w')"
      ],
      "metadata": {
        "id": "dxCwTPbMYBEe"
      },
      "execution_count": null,
      "outputs": []
    },
    {
      "cell_type": "code",
      "source": [
        "#escrever no arquivo\n",
        "arquivo.write('boi ze, simon')"
      ],
      "metadata": {
        "colab": {
          "base_uri": "https://localhost:8080/"
        },
        "id": "PwpJBc-tYXJJ",
        "outputId": "c99af5c3-7686-4943-eca9-625fb575fcde"
      },
      "execution_count": null,
      "outputs": [
        {
          "output_type": "execute_result",
          "data": {
            "text/plain": [
              "13"
            ]
          },
          "metadata": {},
          "execution_count": 50
        }
      ]
    },
    {
      "cell_type": "code",
      "source": [
        "arquivo = open('herois.txt')\n",
        "arquivo.seek(0)\n",
        "arquivo.read()"
      ],
      "metadata": {
        "colab": {
          "base_uri": "https://localhost:8080/",
          "height": 35
        },
        "id": "x_6EAyX9Ynfn",
        "outputId": "d1de906d-ba16-461f-89fa-729b51d0ae9e"
      },
      "execution_count": null,
      "outputs": [
        {
          "output_type": "execute_result",
          "data": {
            "text/plain": [
              "'boi ze, simon'"
            ],
            "application/vnd.google.colaboratory.intrinsic+json": {
              "type": "string"
            }
          },
          "metadata": {},
          "execution_count": 52
        }
      ]
    },
    {
      "cell_type": "code",
      "source": [
        "arquivo = open('herois.txt')"
      ],
      "metadata": {
        "id": "2YlYLPLwZwQg"
      },
      "execution_count": null,
      "outputs": []
    },
    {
      "cell_type": "code",
      "source": [
        "arquivo = close('herois.txt')"
      ],
      "metadata": {
        "colab": {
          "base_uri": "https://localhost:8080/",
          "height": 141
        },
        "id": "VW2jtwarZ3tM",
        "outputId": "5d8874c9-18d9-4761-b190-7667f7b4bbff"
      },
      "execution_count": null,
      "outputs": [
        {
          "output_type": "error",
          "ename": "NameError",
          "evalue": "name 'close' is not defined",
          "traceback": [
            "\u001b[0;31m---------------------------------------------------------------------------\u001b[0m",
            "\u001b[0;31mNameError\u001b[0m                                 Traceback (most recent call last)",
            "\u001b[0;32m<ipython-input-56-4ea76cea8fb2>\u001b[0m in \u001b[0;36m<cell line: 1>\u001b[0;34m()\u001b[0m\n\u001b[0;32m----> 1\u001b[0;31m \u001b[0marquivo\u001b[0m \u001b[0;34m=\u001b[0m \u001b[0mclose\u001b[0m\u001b[0;34m(\u001b[0m\u001b[0;34m'herois.txt'\u001b[0m\u001b[0;34m)\u001b[0m\u001b[0;34m\u001b[0m\u001b[0;34m\u001b[0m\u001b[0m\n\u001b[0m",
            "\u001b[0;31mNameError\u001b[0m: name 'close' is not defined"
          ]
        }
      ]
    },
    {
      "cell_type": "markdown",
      "source": [
        "#crie uma funçao que valide senhas"
      ],
      "metadata": {
        "id": "lM1H_Z2sMcpe"
      }
    },
    {
      "cell_type": "code",
      "source": [
        "#ela deve verificar se a senha tem mais de 8 caracteres e 1 caracter o return deve ser TRUE ou FALSE"
      ],
      "metadata": {
        "id": "VeSpeQ7wMhQu"
      },
      "execution_count": null,
      "outputs": []
    },
    {
      "cell_type": "code",
      "source": [
        "import re\n",
        "\n",
        "def validar_senha(senha):\n",
        "\n",
        "    if len(senha) < 8:\n",
        "        return False\n",
        "\n",
        "    if not re.search(r\"[!@#$%^&*()_+{}\\[\\]:;<>,.?/\\\\-]\", senha):\n",
        "        return False\n",
        "\n",
        "    return True\n",
        "\n",
        "senha = input(\"Digite sua senha: \")\n",
        "if validar_senha(senha):\n",
        "    print(\"TRUE\")\n",
        "else:\n",
        "    print(\"FALSE\")\n"
      ],
      "metadata": {
        "colab": {
          "base_uri": "https://localhost:8080/"
        },
        "id": "7sqkwpAfPJZY",
        "outputId": "98813108-9793-4322-eb29-439cdd263ac3"
      },
      "execution_count": 3,
      "outputs": [
        {
          "output_type": "stream",
          "name": "stdout",
          "text": [
            "Digite sua senha: beniokkj!\n",
            "TRUE\n"
          ]
        }
      ]
    },
    {
      "cell_type": "code",
      "source": [
        "def validar_senha(senha):\n",
        "\n",
        "    if len(senha) < 8:\n",
        "        return False\n",
        "\n",
        "    caracteres_especiais = \"!@#$%^&*()_+{}[]:;<>,.?/\\\\-\"\n",
        "\n",
        "    for char in senha:\n",
        "        if char in caracteres_especiais:\n",
        "            return True\n",
        "\n",
        "    return False\n",
        "\n",
        "senha = input(\"Digite sua senha: \")\n",
        "if validar_senha(senha):\n",
        "    print(\"Senha válida!\")\n",
        "else:\n",
        "    print(\"Senha inválida!\")\n"
      ],
      "metadata": {
        "id": "nFXBJVTlMyVu"
      },
      "execution_count": null,
      "outputs": []
    },
    {
      "cell_type": "markdown",
      "source": [
        "#mit hub"
      ],
      "metadata": {
        "id": "ENC5qdUTXDh0"
      }
    }
  ]
}